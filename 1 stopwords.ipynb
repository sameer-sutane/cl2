{
  "nbformat": 4,
  "nbformat_minor": 0,
  "metadata": {
    "colab": {
      "provenance": []
    },
    "kernelspec": {
      "name": "python3",
      "display_name": "Python 3"
    },
    "language_info": {
      "name": "python"
    }
  },
  "cells": [
    {
      "cell_type": "code",
      "execution_count": 1,
      "metadata": {
        "id": "McdYq-c2SYKk"
      },
      "outputs": [],
      "source": [
        "import nltk\n",
        "from nltk.corpus import stopwords\n",
        "from nltk.tokenize import word_tokenize\n",
        "from nltk.stem import PorterStemmer"
      ]
    },
    {
      "cell_type": "code",
      "source": [
        "# Download necessary NLTK data\n",
        "nltk.download('punkt')\n",
        "nltk.download('stopwords')"
      ],
      "metadata": {
        "colab": {
          "base_uri": "https://localhost:8080/"
        },
        "id": "wKjDk1LmSbRR",
        "outputId": "176c0b3d-5d12-49dd-a5e5-31917f706bef"
      },
      "execution_count": 2,
      "outputs": [
        {
          "output_type": "stream",
          "name": "stderr",
          "text": [
            "[nltk_data] Downloading package punkt to /root/nltk_data...\n",
            "[nltk_data]   Unzipping tokenizers/punkt.zip.\n",
            "[nltk_data] Downloading package stopwords to /root/nltk_data...\n",
            "[nltk_data]   Unzipping corpora/stopwords.zip.\n"
          ]
        },
        {
          "output_type": "execute_result",
          "data": {
            "text/plain": [
              "True"
            ]
          },
          "metadata": {},
          "execution_count": 2
        }
      ]
    },
    {
      "cell_type": "code",
      "source": [
        "text = \"This is an example sentence showing how to remove stop words and apply stemming.\""
      ],
      "metadata": {
        "id": "KtsJS7xuSdgT"
      },
      "execution_count": 3,
      "outputs": []
    },
    {
      "cell_type": "code",
      "source": [
        "# Tokenize the text\n",
        "tokens = word_tokenize(text)"
      ],
      "metadata": {
        "id": "nn8DbC6HSfs3"
      },
      "execution_count": 4,
      "outputs": []
    },
    {
      "cell_type": "code",
      "source": [
        "stop_words = set(stopwords.words('english'))\n",
        "filtered_tokens = [word for word in tokens if word.lower() not in stop_words]"
      ],
      "metadata": {
        "id": "gAY413eYSh-_"
      },
      "execution_count": 5,
      "outputs": []
    },
    {
      "cell_type": "code",
      "source": [
        "# Apply stemming\n",
        "stemmer = PorterStemmer()\n",
        "stemmed_tokens = [stemmer.stem(word) for word in filtered_tokens]"
      ],
      "metadata": {
        "id": "7YehSueiSlel"
      },
      "execution_count": 6,
      "outputs": []
    },
    {
      "cell_type": "code",
      "source": [
        "# Display the results\n",
        "print(\"Original Tokens:\", tokens)\n",
        "print(\"Filtered Tokens (Stop words removed):\", filtered_tokens)\n",
        "print(\"Stemmed Tokens:\", stemmed_tokens)"
      ],
      "metadata": {
        "id": "pb3rV7hKSo89",
        "outputId": "e362cb28-087c-4857-d226-f696ae19032e",
        "colab": {
          "base_uri": "https://localhost:8080/"
        }
      },
      "execution_count": 7,
      "outputs": [
        {
          "output_type": "stream",
          "name": "stdout",
          "text": [
            "Original Tokens: ['This', 'is', 'an', 'example', 'sentence', 'showing', 'how', 'to', 'remove', 'stop', 'words', 'and', 'apply', 'stemming', '.']\n",
            "Filtered Tokens (Stop words removed): ['example', 'sentence', 'showing', 'remove', 'stop', 'words', 'apply', 'stemming', '.']\n",
            "Stemmed Tokens: ['exampl', 'sentenc', 'show', 'remov', 'stop', 'word', 'appli', 'stem', '.']\n"
          ]
        }
      ]
    },
    {
      "cell_type": "code",
      "source": [],
      "metadata": {
        "id": "MXWclI9gSrfi"
      },
      "execution_count": null,
      "outputs": []
    }
  ]
}