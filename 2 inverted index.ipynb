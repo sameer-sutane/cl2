{
  "nbformat": 4,
  "nbformat_minor": 0,
  "metadata": {
    "colab": {
      "provenance": []
    },
    "kernelspec": {
      "name": "python3",
      "display_name": "Python 3"
    },
    "language_info": {
      "name": "python"
    }
  },
  "cells": [
    {
      "cell_type": "code",
      "execution_count": 8,
      "metadata": {
        "id": "3eXTB-XYHDsC"
      },
      "outputs": [],
      "source": [
        "# Import libraries\n",
        "from collections import defaultdict"
      ]
    },
    {
      "cell_type": "code",
      "source": [
        "# Sample documents\n",
        "documents = {\n",
        "    \"doc1\": \"Data science and machine learning are crucial in AI development.\",\n",
        "    \"doc2\": \"Machine learning and AI are advancing rapidly with new technologies.\",\n",
        "    \"doc3\": \"Data analysis and machine learning are key components of data science.\"\n",
        "}"
      ],
      "metadata": {
        "id": "TU-ZumGbKDep"
      },
      "execution_count": 9,
      "outputs": []
    },
    {
      "cell_type": "code",
      "source": [
        "# Function to build an inverted index\n",
        "def build_inverted_index(documents):\n",
        "    inverted_index = defaultdict(list)\n",
        "\n",
        "    for doc_id, text in documents.items():\n",
        "        # Tokenize and normalize the text\n",
        "        words = text.lower().split()\n",
        "\n",
        "        # Populate the inverted index\n",
        "        for word in words:\n",
        "            if doc_id not in inverted_index[word]:\n",
        "                inverted_index[word].append(doc_id)\n",
        "\n",
        "    return inverted_index"
      ],
      "metadata": {
        "id": "EInm66kcKxnK"
      },
      "execution_count": 10,
      "outputs": []
    },
    {
      "cell_type": "code",
      "source": [
        "# Function to retrieve documents for a given query\n",
        "def retrieve_documents(query, inverted_index):\n",
        "    query_words = query.lower().split()\n",
        "    retrieved_docs = set()\n",
        "\n",
        "    for word in query_words:\n",
        "        if word in inverted_index:\n",
        "            retrieved_docs.update(inverted_index[word])\n",
        "\n",
        "    return retrieved_docs"
      ],
      "metadata": {
        "id": "62QWoYd7K0dZ"
      },
      "execution_count": 11,
      "outputs": []
    },
    {
      "cell_type": "code",
      "source": [
        "# Build the inverted index\n",
        "inverted_index = build_inverted_index(documents)"
      ],
      "metadata": {
        "id": "Z2Zx9WGQK4c-"
      },
      "execution_count": 12,
      "outputs": []
    },
    {
      "cell_type": "code",
      "source": [
        "# Display the inverted index\n",
        "print(\"Inverted Index:\", dict(inverted_index))"
      ],
      "metadata": {
        "colab": {
          "base_uri": "https://localhost:8080/"
        },
        "id": "WeWeJhEKK5NN",
        "outputId": "8404a8b2-2d09-4fd6-fee3-c859b3930a7a"
      },
      "execution_count": 13,
      "outputs": [
        {
          "output_type": "stream",
          "name": "stdout",
          "text": [
            "Inverted Index: {'data': ['doc1', 'doc3'], 'science': ['doc1'], 'and': ['doc1', 'doc2', 'doc3'], 'machine': ['doc1', 'doc2', 'doc3'], 'learning': ['doc1', 'doc2', 'doc3'], 'are': ['doc1', 'doc2', 'doc3'], 'crucial': ['doc1'], 'in': ['doc1'], 'ai': ['doc1', 'doc2'], 'development.': ['doc1'], 'advancing': ['doc2'], 'rapidly': ['doc2'], 'with': ['doc2'], 'new': ['doc2'], 'technologies.': ['doc2'], 'analysis': ['doc3'], 'key': ['doc3'], 'components': ['doc3'], 'of': ['doc3'], 'science.': ['doc3']}\n"
          ]
        }
      ]
    },
    {
      "cell_type": "code",
      "source": [
        "# Query and retrieve documents\n",
        "query = \"machine learning\"\n",
        "retrieved_docs = retrieve_documents(query, inverted_index)\n",
        "print(\"\\nDocuments retrieved for query:\", query)\n",
        "print(retrieved_docs)"
      ],
      "metadata": {
        "colab": {
          "base_uri": "https://localhost:8080/"
        },
        "id": "kzZqtI5vK9-h",
        "outputId": "16cbdbbc-ad12-481f-a57a-4d3856ed1391"
      },
      "execution_count": 14,
      "outputs": [
        {
          "output_type": "stream",
          "name": "stdout",
          "text": [
            "\n",
            "Documents retrieved for query: machine learning\n",
            "{'doc2', 'doc1', 'doc3'}\n"
          ]
        }
      ]
    },
    {
      "cell_type": "code",
      "source": [],
      "metadata": {
        "id": "4_aEC4TYK-za"
      },
      "execution_count": null,
      "outputs": []
    }
  ]
}