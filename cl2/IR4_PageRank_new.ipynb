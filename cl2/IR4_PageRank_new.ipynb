{
 "cells": [
  {
   "cell_type": "code",
   "execution_count": 5,
   "id": "f4c296b7",
   "metadata": {},
   "outputs": [],
   "source": [
    "import numpy as np"
   ]
  },
  {
   "cell_type": "code",
   "execution_count": 10,
   "id": "68a1d71e",
   "metadata": {},
   "outputs": [],
   "source": [
    "def page_rank(M, num_iterations=10, damping_factor=0.85):\n",
    "    N = M.shape[0]  # Number of pages\n",
    "    rank = np.ones(N) / N  # Start with an equal rank for each page\n",
    "    teleport = np.ones(N) / N  # Teleportation factor for each page\n",
    "\n",
    "    for _ in range(num_iterations):\n",
    "        rank = (damping_factor * M @ rank) + (1 - damping_factor) * teleport\n",
    "\n",
    "    return rank"
   ]
  },
  {
   "cell_type": "code",
   "execution_count": 18,
   "id": "91f7cb99",
   "metadata": {},
   "outputs": [],
   "source": [
    "# Example usage\n",
    "# Adjacency matrix example: 4 pages with links between them\n",
    "# M[i, j] = 1 if there's a link from page j to page i, 0 otherwise\n",
    "M = np.array([\n",
    "    [0, 0, 1, 0],\n",
    "    [1, 0, 0, 1],\n",
    "    [0, 1, 0, 0],\n",
    "    [1, 1, 1, 0]\n",
    "], dtype=float)"
   ]
  },
  {
   "cell_type": "code",
   "execution_count": 19,
   "id": "1cb7c4c1",
   "metadata": {},
   "outputs": [],
   "source": [
    "# Normalize columns to make sure each column sums to 1\n",
    "M /= M.sum(axis=0)"
   ]
  },
  {
   "cell_type": "code",
   "execution_count": 20,
   "id": "28da5174",
   "metadata": {},
   "outputs": [
    {
     "name": "stdout",
     "output_type": "stream",
     "text": [
      "PageRank of each page: [0.11923081 0.36405853 0.19216359 0.32454707]\n"
     ]
    }
   ],
   "source": [
    "# Calculate PageRank\n",
    "ranks = page_rank(M)\n",
    "print(\"PageRank of each page:\", ranks)"
   ]
  },
  {
   "cell_type": "code",
   "execution_count": null,
   "id": "1251daef",
   "metadata": {},
   "outputs": [],
   "source": []
  },
  {
   "cell_type": "code",
   "execution_count": null,
   "id": "25e02815",
   "metadata": {},
   "outputs": [],
   "source": []
  }
 ],
 "metadata": {
  "kernelspec": {
   "display_name": "Python 3 (ipykernel)",
   "language": "python",
   "name": "python3"
  },
  "language_info": {
   "codemirror_mode": {
    "name": "ipython",
    "version": 3
   },
   "file_extension": ".py",
   "mimetype": "text/x-python",
   "name": "python",
   "nbconvert_exporter": "python",
   "pygments_lexer": "ipython3",
   "version": "3.10.8"
  }
 },
 "nbformat": 4,
 "nbformat_minor": 5
}
