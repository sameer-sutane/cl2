{
 "cells": [
  {
   "cell_type": "code",
   "execution_count": 19,
   "id": "dbb76c48",
   "metadata": {},
   "outputs": [],
   "source": [
    "# Define the documents\n",
    "document1 = \"The quick brown fox jumped over the lazy dog .\"\n",
    "document2 = \"The lazy dog slept in the sun .\""
   ]
  },
  {
   "cell_type": "code",
   "execution_count": 20,
   "id": "ecb13cb5",
   "metadata": {},
   "outputs": [
    {
     "name": "stdout",
     "output_type": "stream",
     "text": [
      "['the', 'quick', 'brown', 'fox', 'jumped', 'over', 'the', 'lazy', 'dog', '.']\n",
      "['the', 'lazy', 'dog', 'dot', 'slept', 'in', 'the', 'sun', '.']\n"
     ]
    }
   ],
   "source": [
    "# Step 1: Tokenize the documents\n",
    "# Convert each document to lowercase and split it into words\n",
    "tokens1 = document1.lower().split()\n",
    "tokens2 = document2.lower().split()\n",
    "print(tokens1)\n",
    "print(tokens2)"
   ]
  },
  {
   "cell_type": "code",
   "execution_count": 21,
   "id": "500da4a8",
   "metadata": {},
   "outputs": [
    {
     "name": "stdout",
     "output_type": "stream",
     "text": [
      "['slept', 'quick', 'dog', 'jumped', 'the', 'dot', 'lazy', '.', 'fox', 'brown', 'in', 'over', 'sun']\n"
     ]
    }
   ],
   "source": [
    "# Combine the tokens into a list of unique terms\n",
    "terms = list(set(tokens1 + tokens2))\n",
    "print(terms)"
   ]
  },
  {
   "cell_type": "code",
   "execution_count": 22,
   "id": "828cef64",
   "metadata": {},
   "outputs": [],
   "source": [
    "# Step 2: Build the inverted index\n",
    "# Create an empty dictionary to store the inverted index\n",
    "inverted_index = {}\n",
    "# For each term, find the documents that contain it\n",
    "for term in terms:\n",
    "    documents = []\n",
    "    if term in tokens1:\n",
    "        documents.append(\"Document 1\")\n",
    "    if term in tokens2:\n",
    "        documents.append(\"Document 2\")\n",
    "    inverted_index[term] = documents"
   ]
  },
  {
   "cell_type": "code",
   "execution_count": 23,
   "id": "b5ee74b8",
   "metadata": {},
   "outputs": [
    {
     "name": "stdout",
     "output_type": "stream",
     "text": [
      "Inverted Index:\n",
      "slept -> Document 2\n",
      "quick -> Document 1\n",
      "dog -> Document 1, Document 2\n",
      "jumped -> Document 1\n",
      "the -> Document 1, Document 2\n",
      "dot -> Document 2\n",
      "lazy -> Document 1, Document 2\n",
      ". -> Document 1, Document 2\n",
      "fox -> Document 1\n",
      "brown -> Document 1\n",
      "in -> Document 2\n",
      "over -> Document 1\n",
      "sun -> Document 2\n"
     ]
    }
   ],
   "source": [
    "# Step 3: Print the inverted index\n",
    "print(\"Inverted Index:\")\n",
    "for term, documents in inverted_index.items():\n",
    "    print(term, \"->\", \", \".join(documents))"
   ]
  },
  {
   "cell_type": "code",
   "execution_count": 32,
   "id": "418b4c9d",
   "metadata": {},
   "outputs": [
    {
     "name": "stdout",
     "output_type": "stream",
     "text": [
      "\n",
      "Enter your search query: dog\n"
     ]
    },
    {
     "data": {
      "text/plain": [
       "['dog']"
      ]
     },
     "execution_count": 32,
     "metadata": {},
     "output_type": "execute_result"
    }
   ],
   "source": [
    "# Step 4: Search Query\n",
    "query = input(\"\\nEnter your search query: \").lower()  # Get the search query from the user\n",
    "query_terms = query.split()  # Split query into individual terms\n",
    "query_terms"
   ]
  },
  {
   "cell_type": "code",
   "execution_count": 33,
   "id": "50f23f45",
   "metadata": {},
   "outputs": [],
   "source": [
    "# Find the documents for the query\n",
    "result_docs = set()  # To store the matching documents"
   ]
  },
  {
   "cell_type": "code",
   "execution_count": 34,
   "id": "d2e30687",
   "metadata": {},
   "outputs": [],
   "source": [
    "# Iterate over the query terms and retrieve documents\n",
    "for term in query_terms:\n",
    "    if term in inverted_index:\n",
    "        result_docs.update(inverted_index[term])  # Add documents that contain the query term"
   ]
  },
  {
   "cell_type": "code",
   "execution_count": 35,
   "id": "c10eff92",
   "metadata": {},
   "outputs": [
    {
     "name": "stdout",
     "output_type": "stream",
     "text": [
      "\n",
      "Documents matching the query:\n",
      "Document 2\n",
      "Document 1\n"
     ]
    }
   ],
   "source": [
    "# Step 5: Display the results\n",
    "if result_docs:\n",
    "    print(\"\\nDocuments matching the query:\")\n",
    "    for doc in result_docs:\n",
    "        print(doc)\n",
    "else:\n",
    "    print(\"\\nNo documents found for the query.\")"
   ]
  },
  {
   "cell_type": "markdown",
   "id": "e63dcbb8",
   "metadata": {},
   "source": [
    "# Explanation:\n",
    "1. Inverted Index Construction: The inverted index is created the same way as before, mapping each word to the documents it appears in.\n",
    "2. Search Input: We prompt the user to input a search query.\n",
    "\n",
    "      -The query is converted to lowercase and split into individual terms.\n",
    "3. Search Query Processing: We search the inverted index for each query term and find which documents contain it.\n",
    "4. Result Display: If any matching documents are found, they are displayed. Otherwise, a message indicates no matches were found.# \n",
    "\n",
    "# How it Works:\n",
    "- Inverted Index: The program builds an index of words (terms) and the documents where those words appear.\n",
    "- Search: The user enters a search query, and the program checks which documents contain all the words in the query.\n",
    "- Results: The documents containing all the terms from the query are displayed."
   ]
  }
 ],
 "metadata": {
  "kernelspec": {
   "display_name": "Python 3 (ipykernel)",
   "language": "python",
   "name": "python3"
  },
  "language_info": {
   "codemirror_mode": {
    "name": "ipython",
    "version": 3
   },
   "file_extension": ".py",
   "mimetype": "text/x-python",
   "name": "python",
   "nbconvert_exporter": "python",
   "pygments_lexer": "ipython3",
   "version": "3.10.8"
  }
 },
 "nbformat": 4,
 "nbformat_minor": 5
}
