{
 "cells": [
  {
   "cell_type": "code",
   "execution_count": 1,
   "id": "99d373a5",
   "metadata": {},
   "outputs": [],
   "source": [
    "# Import necessary libraries\n",
    "import hashlib  # For hashing to ensure data integrity\n",
    "from cryptography.fernet import Fernet  # For encryption\n",
    "import random  # For simulating sensor data"
   ]
  },
  {
   "cell_type": "code",
   "execution_count": 2,
   "id": "00a46dfb",
   "metadata": {},
   "outputs": [],
   "source": [
    "# Generate an encryption key\n",
    "key = Fernet.generate_key()\n",
    "cipher = Fernet(key)"
   ]
  },
  {
   "cell_type": "code",
   "execution_count": 3,
   "id": "518ad8e0",
   "metadata": {},
   "outputs": [],
   "source": [
    "def get_sensor_data():\n",
    "    return random.uniform(50, 100)  # Random temperature between 50°C and 100°C\n",
    "\n",
    "# Encrypt the sensor data\n",
    "def encrypt_data(data, cipher):\n",
    "    return cipher.encrypt(data.encode())\n",
    "\n",
    "# Decrypt the sensor data\n",
    "def decrypt_data(encrypted_data, cipher):\n",
    "    return cipher.decrypt(encrypted_data).decode()\n",
    "\n",
    "# Verify data integrity using hashing\n",
    "def verify_data_integrity(data):\n",
    "    return hashlib.sha256(data.encode()).hexdigest()"
   ]
  },
  {
   "cell_type": "code",
   "execution_count": 23,
   "id": "77218dcb",
   "metadata": {},
   "outputs": [
    {
     "name": "stdout",
     "output_type": "stream",
     "text": [
      "Original temprature Data: 52.56\n",
      "Encrypted Data: b'gAAAAABnIIziJZGrmQwVXpQb3pac-L9k8LRn9THBR9jSbgPU9_JFBLd42oCOD5XC5CwiOAp0nSVsRtfh9ssHeBrhuQ3wdXykRQ=='\n",
      "Decrypted Data: 52.56\n"
     ]
    }
   ],
   "source": [
    "sensor_data = f\"{get_sensor_data():.2f}\"\n",
    "print(\"Original temprature Data:\", sensor_data)\n",
    "\n",
    "# Encrypt and then decrypt the data\n",
    "encrypted_data = encrypt_data(sensor_data, cipher)\n",
    "print(\"Encrypted Data:\", encrypted_data)\n",
    "\n",
    "decrypted_data = decrypt_data(encrypted_data, cipher)\n",
    "print(\"Decrypted Data:\", decrypted_data)"
   ]
  },
  {
   "cell_type": "code",
   "execution_count": 24,
   "id": "8d1e3ee8",
   "metadata": {},
   "outputs": [
    {
     "name": "stdout",
     "output_type": "stream",
     "text": [
      "Data Integrity Verified: Hashes match.\n",
      " 3d6c9c3aca50f1259b0f3ffc29f50397b014f2b8fe87c75e6fd0e22d1c61f5a3 \n",
      " 3d6c9c3aca50f1259b0f3ffc29f50397b014f2b8fe87c75e6fd0e22d1c61f5a3\n"
     ]
    }
   ],
   "source": [
    "original_hash = verify_data_integrity(sensor_data)\n",
    "decrypted_hash = verify_data_integrity(decrypted_data)\n",
    "if original_hash == decrypted_hash:\n",
    "    print(\"Data Integrity Verified: Hashes match.\\n\",original_hash,\"\\n\",decrypted_hash)\n",
    "else:\n",
    "    print(\"Data Integrity Issue: Hashes do not match.\")"
   ]
  },
  {
   "cell_type": "code",
   "execution_count": null,
   "id": "692600ef",
   "metadata": {},
   "outputs": [],
   "source": []
  }
 ],
 "metadata": {
  "kernelspec": {
   "display_name": "Python 3 (ipykernel)",
   "language": "python",
   "name": "python3"
  },
  "language_info": {
   "codemirror_mode": {
    "name": "ipython",
    "version": 3
   },
   "file_extension": ".py",
   "mimetype": "text/x-python",
   "name": "python",
   "nbconvert_exporter": "python",
   "pygments_lexer": "ipython3",
   "version": "3.10.8"
  }
 },
 "nbformat": 4,
 "nbformat_minor": 5
}
